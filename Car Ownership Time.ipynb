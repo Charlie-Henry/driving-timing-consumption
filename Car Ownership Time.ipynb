{
 "cells": [
  {
   "cell_type": "code",
   "execution_count": 1,
   "id": "84def680",
   "metadata": {},
   "outputs": [],
   "source": [
    "import pygris\n",
    "from pygris.data import get_census\n",
    "import pandas as pd\n",
    "from states import states"
   ]
  },
  {
   "cell_type": "code",
   "execution_count": 2,
   "id": "2762fc0f",
   "metadata": {},
   "outputs": [],
   "source": [
    "variables = {\n",
    "    \"S0801_C01_003E\": \"Drove Alone\",\n",
    "    \"S0801_C01_046E\": \"Mean travel time\",\n",
    "    \"S2001_C01_013E\": \"Median earnings\",\n",
    "}"
   ]
  },
  {
   "cell_type": "code",
   "execution_count": 3,
   "id": "6c11c3db",
   "metadata": {},
   "outputs": [],
   "source": [
    "data = []\n",
    "for s in states:\n",
    "    data.append(get_census(dataset = \"acs/acs5/subject\",\n",
    "                               variables = list(variables.keys()),\n",
    "                               year = 2022,\n",
    "                               params = {\n",
    "                                 \"for\": \"tract:*\",\n",
    "                                 \"in\": f\"state:{s}\"\n",
    "                               },\n",
    "                               guess_dtypes = True,\n",
    "                               return_geoid = True\n",
    "                          )\n",
    "    )\n",
    "data = pd.concat(data)"
   ]
  },
  {
   "cell_type": "code",
   "execution_count": 4,
   "id": "eb780765",
   "metadata": {},
   "outputs": [],
   "source": [
    "data.rename(columns=variables, inplace=True)"
   ]
  },
  {
   "cell_type": "code",
   "execution_count": 5,
   "id": "e0059e88",
   "metadata": {},
   "outputs": [
    {
     "name": "stdout",
     "output_type": "stream",
     "text": [
      "Retrieving Census tracts for the entire United States\n"
     ]
    }
   ],
   "source": [
    "tracts = pygris.tracts(cb = True, year=2022)"
   ]
  },
  {
   "cell_type": "code",
   "execution_count": 6,
   "id": "1fdc43e6",
   "metadata": {},
   "outputs": [],
   "source": [
    "tracts = tracts.merge(data, on=\"GEOID\", how=\"inner\")"
   ]
  },
  {
   "cell_type": "code",
   "execution_count": 7,
   "id": "899722b3",
   "metadata": {},
   "outputs": [],
   "source": [
    "# Mean Daily drive time, all trip purposes\n",
    "tracts[\"Component 1\"] = (tracts[\"Mean travel time\"] * (tracts[\"Drove Alone\"]/100) * 2 * 3 )/60"
   ]
  },
  {
   "cell_type": "code",
   "execution_count": 8,
   "id": "5d131802",
   "metadata": {},
   "outputs": [],
   "source": [
    "# Hours worked to afford a car spread over 7 days\n",
    "tracts[\"Component 2\"] = (12182/(tracts[\"Median earnings\"]/40))/7"
   ]
  },
  {
   "cell_type": "code",
   "execution_count": 9,
   "id": "afa992af",
   "metadata": {},
   "outputs": [],
   "source": [
    "tracts[\"Total Car Ownership Time\"] = tracts[\"Component 1\"] + tracts[\"Component 2\"]"
   ]
  },
  {
   "cell_type": "code",
   "execution_count": 10,
   "id": "7afdbd2c",
   "metadata": {},
   "outputs": [],
   "source": [
    "tracts.to_file(\"tracts_time_wasted_on_cars.geojson\")"
   ]
  },
  {
   "cell_type": "code",
   "execution_count": null,
   "id": "2fb61d7b",
   "metadata": {},
   "outputs": [],
   "source": []
  }
 ],
 "metadata": {
  "kernelspec": {
   "display_name": "Python 3 (ipykernel)",
   "language": "python",
   "name": "python3"
  },
  "language_info": {
   "codemirror_mode": {
    "name": "ipython",
    "version": 3
   },
   "file_extension": ".py",
   "mimetype": "text/x-python",
   "name": "python",
   "nbconvert_exporter": "python",
   "pygments_lexer": "ipython3",
   "version": "3.11.4"
  }
 },
 "nbformat": 4,
 "nbformat_minor": 5
}
