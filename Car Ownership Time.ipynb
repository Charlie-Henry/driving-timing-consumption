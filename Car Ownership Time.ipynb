{
 "cells": [
  {
   "cell_type": "code",
   "execution_count": 1,
   "id": "301233af",
   "metadata": {},
   "outputs": [],
   "source": [
    "import pygris\n",
    "from pygris.data import get_census\n"
   ]
  },
  {
   "cell_type": "code",
   "execution_count": 2,
   "id": "973bd804",
   "metadata": {},
   "outputs": [],
   "source": [
    "STATE = \"48\" # Texas FIPS code"
   ]
  },
  {
   "cell_type": "code",
   "execution_count": 3,
   "id": "5252bf15",
   "metadata": {},
   "outputs": [],
   "source": [
    "variables = {\n",
    "    \"S0801_C01_003E\": \"Drove Alone\",\n",
    "    \"S0801_C01_046E\": \"Mean travel time\",\n",
    "    \"S2001_C01_013E\": \"Median earnings\",\n",
    "}"
   ]
  },
  {
   "cell_type": "code",
   "execution_count": null,
   "id": "07585857",
   "metadata": {},
   "outputs": [],
   "source": [
    "data = get_census(dataset = \"acs/acs5/subject\",\n",
    "                           variables = list(variables.keys()),\n",
    "                           year = 2022,\n",
    "                           params = {\n",
    "                             \"for\": \"tract:*\",\n",
    "                             \"in\": \"state:48\"\n",
    "                           },\n",
    "                           guess_dtypes = True,\n",
    "                           return_geoid = True\n",
    ")"
   ]
  },
  {
   "cell_type": "code",
   "execution_count": null,
   "id": "3daf5834",
   "metadata": {},
   "outputs": [],
   "source": [
    "data.rename(columns=variables, inplace=True)"
   ]
  },
  {
   "cell_type": "code",
   "execution_count": null,
   "id": "05859c15",
   "metadata": {},
   "outputs": [],
   "source": [
    "tracts = pygris.tracts(cb = True, state=STATE, year=2022)"
   ]
  },
  {
   "cell_type": "code",
   "execution_count": null,
   "id": "eba6800e",
   "metadata": {},
   "outputs": [],
   "source": [
    "tracts = tracts.merge(data, on=\"GEOID\", how=\"left\")"
   ]
  },
  {
   "cell_type": "code",
   "execution_count": null,
   "id": "232b5151",
   "metadata": {},
   "outputs": [],
   "source": [
    "# Mean Daily drive time, all trip purposes\n",
    "tracts[\"Component 1\"] = (tracts[\"Mean travel time\"] * (tracts[\"Drove Alone\"]/100) * 2 * 3 )/60"
   ]
  },
  {
   "cell_type": "code",
   "execution_count": null,
   "id": "6cbbc0c8",
   "metadata": {},
   "outputs": [],
   "source": [
    "# Hours worked to afford a car spread over 7 days\n",
    "tracts[\"Component 2\"] = (12182/(tracts[\"Median earnings\"]/40))/7"
   ]
  },
  {
   "cell_type": "code",
   "execution_count": null,
   "id": "86165e37",
   "metadata": {},
   "outputs": [],
   "source": [
    "tracts[\"Total Car Ownership Time\"] = tracts[\"Component 1\"] + tracts[\"Component 2\"]"
   ]
  },
  {
   "cell_type": "code",
   "execution_count": null,
   "id": "a689e2e2",
   "metadata": {
    "scrolled": true
   },
   "outputs": [],
   "source": [
    "tracts.explore(\"Total Car Ownership Time\", tooltip=[\"Component 1\", \"Component 2\", \"Total Car Ownership Time\"])"
   ]
  },
  {
   "cell_type": "code",
   "execution_count": null,
   "id": "172ef726",
   "metadata": {},
   "outputs": [],
   "source": [
    "tracts.to_file(\"tracts_time_wasted_on_cars.geojson\")"
   ]
  }
 ],
 "metadata": {
  "kernelspec": {
   "display_name": "Python 3 (ipykernel)",
   "language": "python",
   "name": "python3"
  },
  "language_info": {
   "codemirror_mode": {
    "name": "ipython",
    "version": 3
   },
   "file_extension": ".py",
   "mimetype": "text/x-python",
   "name": "python",
   "nbconvert_exporter": "python",
   "pygments_lexer": "ipython3",
   "version": "3.11.4"
  }
 },
 "nbformat": 4,
 "nbformat_minor": 5
}
